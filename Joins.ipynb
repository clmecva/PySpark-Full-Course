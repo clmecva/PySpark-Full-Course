{
 "cells": [
  {
   "cell_type": "markdown",
   "metadata": {
    "application/vnd.databricks.v1+cell": {
     "cellMetadata": {},
     "inputWidgets": {},
     "nuid": "7ae1972c-5b9d-4269-95d9-3afb051c264a",
     "showTitle": false,
     "tableResultSettingsMap": {},
     "title": ""
    }
   },
   "source": [
    "### `Joins` "
   ]
  },
  {
   "cell_type": "markdown",
   "metadata": {
    "application/vnd.databricks.v1+cell": {
     "cellMetadata": {},
     "inputWidgets": {},
     "nuid": "4aa18a20-5d08-458a-9e6c-654e8c245f38",
     "showTitle": false,
     "tableResultSettingsMap": {},
     "title": ""
    }
   },
   "source": [
    "- inner        --> `inner`  \n",
    "- left outer   --> `left , leftouter , left_outer`\n",
    "- right outer  --> `right , rightouter , right_outer`\n",
    "- full outer   --> `full, fullouter , full_outer`\n",
    "- left anti    --> `anti , leftanti , left_anti`\n",
    "- left semi    --> `semi , leftsemi , left_semi`"
   ]
  },
  {
   "cell_type": "code",
   "execution_count": 0,
   "metadata": {
    "application/vnd.databricks.v1+cell": {
     "cellMetadata": {
      "byteLimit": 2048000,
      "rowLimit": 10000
     },
     "inputWidgets": {},
     "nuid": "6f3044d1-b44e-46a6-8561-7c88b710e0a7",
     "showTitle": false,
     "tableResultSettingsMap": {},
     "title": ""
    }
   },
   "outputs": [],
   "source": [
    "data1 = [\n",
    "  (111,\"Raj Kumar\",1999,100,\"M\",15000),\n",
    "  (121,\"Rajesh Kumar\",2000,100,\"M\",20000),\n",
    "  (131,\"Priya Kumari\",1999,200,\"F\",25000),\n",
    "  (141,\"Priyanka Nadendla\",2001,200,\"F\",30000),\n",
    "  (151,\"Anand Inolu\",2000,400,\"M\",35000),\n",
    "  (161,\"Anil Kumar\",1998,700,\"M\",40000),\n",
    "]\n",
    "schema1 = [\"emoloyee_id\",\"name\",\"dob\",\"dept_id\",\"gender\",\"salary\"]\n",
    "df1 = spark.createDataFrame(data = data1,schema = schema1)"
   ]
  },
  {
   "cell_type": "code",
   "execution_count": 0,
   "metadata": {
    "application/vnd.databricks.v1+cell": {
     "cellMetadata": {
      "byteLimit": 2048000,
      "rowLimit": 10000
     },
     "inputWidgets": {},
     "nuid": "ff27c52e-0a0d-4a55-8f14-ea1776a7a7f9",
     "showTitle": false,
     "tableResultSettingsMap": {},
     "title": ""
    }
   },
   "outputs": [
    {
     "output_type": "display_data",
     "data": {
      "text/html": [
       "<style scoped>\n",
       "  .table-result-container {\n",
       "    max-height: 300px;\n",
       "    overflow: auto;\n",
       "  }\n",
       "  table, th, td {\n",
       "    border: 1px solid black;\n",
       "    border-collapse: collapse;\n",
       "  }\n",
       "  th, td {\n",
       "    padding: 5px;\n",
       "  }\n",
       "  th {\n",
       "    text-align: left;\n",
       "  }\n",
       "</style><div class='table-result-container'><table class='table-result'><thead style='background-color: white'><tr><th>emoloyee_id</th><th>name</th><th>dob</th><th>dept_id</th><th>gender</th><th>salary</th></tr></thead><tbody><tr><td>111</td><td>Raj Kumar</td><td>1999</td><td>100</td><td>M</td><td>15000</td></tr><tr><td>121</td><td>Rajesh Kumar</td><td>2000</td><td>100</td><td>M</td><td>20000</td></tr><tr><td>131</td><td>Priya Kumari</td><td>1999</td><td>200</td><td>F</td><td>25000</td></tr><tr><td>141</td><td>Priyanka Nadendla</td><td>2001</td><td>200</td><td>F</td><td>30000</td></tr><tr><td>151</td><td>Anand Inolu</td><td>2000</td><td>400</td><td>M</td><td>35000</td></tr><tr><td>161</td><td>Anil Kumar</td><td>1998</td><td>700</td><td>M</td><td>40000</td></tr></tbody></table></div>"
      ]
     },
     "metadata": {
      "application/vnd.databricks.v1+output": {
       "addedWidgets": {},
       "aggData": [],
       "aggError": "",
       "aggOverflow": false,
       "aggSchema": [],
       "aggSeriesLimitReached": false,
       "aggType": "",
       "arguments": {},
       "columnCustomDisplayInfos": {},
       "data": [
        [
         111,
         "Raj Kumar",
         1999,
         100,
         "M",
         15000
        ],
        [
         121,
         "Rajesh Kumar",
         2000,
         100,
         "M",
         20000
        ],
        [
         131,
         "Priya Kumari",
         1999,
         200,
         "F",
         25000
        ],
        [
         141,
         "Priyanka Nadendla",
         2001,
         200,
         "F",
         30000
        ],
        [
         151,
         "Anand Inolu",
         2000,
         400,
         "M",
         35000
        ],
        [
         161,
         "Anil Kumar",
         1998,
         700,
         "M",
         40000
        ]
       ],
       "datasetInfos": [],
       "dbfsResultPath": null,
       "isJsonSchema": true,
       "metadata": {},
       "overflow": false,
       "plotOptions": {
        "customPlotOptions": {},
        "displayType": "table",
        "pivotAggregation": null,
        "pivotColumns": null,
        "xColumns": null,
        "yColumns": null
       },
       "removedWidgets": [],
       "schema": [
        {
         "metadata": "{}",
         "name": "emoloyee_id",
         "type": "\"long\""
        },
        {
         "metadata": "{}",
         "name": "name",
         "type": "\"string\""
        },
        {
         "metadata": "{}",
         "name": "dob",
         "type": "\"long\""
        },
        {
         "metadata": "{}",
         "name": "dept_id",
         "type": "\"long\""
        },
        {
         "metadata": "{}",
         "name": "gender",
         "type": "\"string\""
        },
        {
         "metadata": "{}",
         "name": "salary",
         "type": "\"long\""
        }
       ],
       "type": "table"
      }
     },
     "output_type": "display_data"
    }
   ],
   "source": [
    "display(df1)"
   ]
  },
  {
   "cell_type": "code",
   "execution_count": 0,
   "metadata": {
    "application/vnd.databricks.v1+cell": {
     "cellMetadata": {
      "byteLimit": 2048000,
      "rowLimit": 10000
     },
     "inputWidgets": {},
     "nuid": "f96fd3bb-830a-40ca-abc6-ed3089b23f3f",
     "showTitle": false,
     "tableResultSettingsMap": {},
     "title": ""
    }
   },
   "outputs": [],
   "source": [
    "data2 = [\n",
    "    (100,\"Sales\"),\n",
    "    (200,\"Marketing\"),\n",
    "    (300,\"Finance\"),\n",
    "    (400,\"HR\"),\n",
    "    (500,\"IT\")\n",
    "]\n",
    "\n",
    "schema2 = [\"dept_id\",\"dept_name\"]\n",
    "df2 = spark.createDataFrame(data = data2,schema = schema2)"
   ]
  },
  {
   "cell_type": "code",
   "execution_count": 0,
   "metadata": {
    "application/vnd.databricks.v1+cell": {
     "cellMetadata": {
      "byteLimit": 2048000,
      "rowLimit": 10000
     },
     "inputWidgets": {},
     "nuid": "51e3d00c-fa6a-41b0-b7db-1d84e499c24f",
     "showTitle": false,
     "tableResultSettingsMap": {},
     "title": ""
    }
   },
   "outputs": [
    {
     "output_type": "display_data",
     "data": {
      "text/html": [
       "<style scoped>\n",
       "  .table-result-container {\n",
       "    max-height: 300px;\n",
       "    overflow: auto;\n",
       "  }\n",
       "  table, th, td {\n",
       "    border: 1px solid black;\n",
       "    border-collapse: collapse;\n",
       "  }\n",
       "  th, td {\n",
       "    padding: 5px;\n",
       "  }\n",
       "  th {\n",
       "    text-align: left;\n",
       "  }\n",
       "</style><div class='table-result-container'><table class='table-result'><thead style='background-color: white'><tr><th>dept_id</th><th>dept_name</th></tr></thead><tbody><tr><td>100</td><td>Sales</td></tr><tr><td>200</td><td>Marketing</td></tr><tr><td>300</td><td>Finance</td></tr><tr><td>400</td><td>HR</td></tr><tr><td>500</td><td>IT</td></tr></tbody></table></div>"
      ]
     },
     "metadata": {
      "application/vnd.databricks.v1+output": {
       "addedWidgets": {},
       "aggData": [],
       "aggError": "",
       "aggOverflow": false,
       "aggSchema": [],
       "aggSeriesLimitReached": false,
       "aggType": "",
       "arguments": {},
       "columnCustomDisplayInfos": {},
       "data": [
        [
         100,
         "Sales"
        ],
        [
         200,
         "Marketing"
        ],
        [
         300,
         "Finance"
        ],
        [
         400,
         "HR"
        ],
        [
         500,
         "IT"
        ]
       ],
       "datasetInfos": [],
       "dbfsResultPath": null,
       "isJsonSchema": true,
       "metadata": {},
       "overflow": false,
       "plotOptions": {
        "customPlotOptions": {},
        "displayType": "table",
        "pivotAggregation": null,
        "pivotColumns": null,
        "xColumns": null,
        "yColumns": null
       },
       "removedWidgets": [],
       "schema": [
        {
         "metadata": "{}",
         "name": "dept_id",
         "type": "\"long\""
        },
        {
         "metadata": "{}",
         "name": "dept_name",
         "type": "\"string\""
        }
       ],
       "type": "table"
      }
     },
     "output_type": "display_data"
    }
   ],
   "source": [
    "display(df2)"
   ]
  },
  {
   "cell_type": "markdown",
   "metadata": {
    "application/vnd.databricks.v1+cell": {
     "cellMetadata": {},
     "inputWidgets": {},
     "nuid": "0d75110f-c5f8-4639-bddf-f12b75381a82",
     "showTitle": false,
     "tableResultSettingsMap": {},
     "title": ""
    }
   },
   "source": [
    "Inner Join"
   ]
  },
  {
   "cell_type": "code",
   "execution_count": 0,
   "metadata": {
    "application/vnd.databricks.v1+cell": {
     "cellMetadata": {
      "byteLimit": 2048000,
      "rowLimit": 10000
     },
     "inputWidgets": {},
     "nuid": "a700a7e5-ac42-4864-9c89-3a6308de4e41",
     "showTitle": false,
     "tableResultSettingsMap": {},
     "title": ""
    }
   },
   "outputs": [
    {
     "output_type": "display_data",
     "data": {
      "text/html": [
       "<style scoped>\n",
       "  .table-result-container {\n",
       "    max-height: 300px;\n",
       "    overflow: auto;\n",
       "  }\n",
       "  table, th, td {\n",
       "    border: 1px solid black;\n",
       "    border-collapse: collapse;\n",
       "  }\n",
       "  th, td {\n",
       "    padding: 5px;\n",
       "  }\n",
       "  th {\n",
       "    text-align: left;\n",
       "  }\n",
       "</style><div class='table-result-container'><table class='table-result'><thead style='background-color: white'><tr><th>emoloyee_id</th><th>name</th><th>dob</th><th>dept_id</th><th>gender</th><th>salary</th><th>dept_id</th><th>dept_name</th></tr></thead><tbody><tr><td>111</td><td>Raj Kumar</td><td>1999</td><td>100</td><td>M</td><td>15000</td><td>100</td><td>Sales</td></tr><tr><td>121</td><td>Rajesh Kumar</td><td>2000</td><td>100</td><td>M</td><td>20000</td><td>100</td><td>Sales</td></tr><tr><td>131</td><td>Priya Kumari</td><td>1999</td><td>200</td><td>F</td><td>25000</td><td>200</td><td>Marketing</td></tr><tr><td>141</td><td>Priyanka Nadendla</td><td>2001</td><td>200</td><td>F</td><td>30000</td><td>200</td><td>Marketing</td></tr><tr><td>151</td><td>Anand Inolu</td><td>2000</td><td>400</td><td>M</td><td>35000</td><td>400</td><td>HR</td></tr></tbody></table></div>"
      ]
     },
     "metadata": {
      "application/vnd.databricks.v1+output": {
       "addedWidgets": {},
       "aggData": [],
       "aggError": "",
       "aggOverflow": false,
       "aggSchema": [],
       "aggSeriesLimitReached": false,
       "aggType": "",
       "arguments": {},
       "columnCustomDisplayInfos": {},
       "data": [
        [
         111,
         "Raj Kumar",
         1999,
         100,
         "M",
         15000,
         100,
         "Sales"
        ],
        [
         121,
         "Rajesh Kumar",
         2000,
         100,
         "M",
         20000,
         100,
         "Sales"
        ],
        [
         131,
         "Priya Kumari",
         1999,
         200,
         "F",
         25000,
         200,
         "Marketing"
        ],
        [
         141,
         "Priyanka Nadendla",
         2001,
         200,
         "F",
         30000,
         200,
         "Marketing"
        ],
        [
         151,
         "Anand Inolu",
         2000,
         400,
         "M",
         35000,
         400,
         "HR"
        ]
       ],
       "datasetInfos": [],
       "dbfsResultPath": null,
       "isJsonSchema": true,
       "metadata": {},
       "overflow": false,
       "plotOptions": {
        "customPlotOptions": {},
        "displayType": "table",
        "pivotAggregation": null,
        "pivotColumns": null,
        "xColumns": null,
        "yColumns": null
       },
       "removedWidgets": [],
       "schema": [
        {
         "metadata": "{}",
         "name": "emoloyee_id",
         "type": "\"long\""
        },
        {
         "metadata": "{}",
         "name": "name",
         "type": "\"string\""
        },
        {
         "metadata": "{}",
         "name": "dob",
         "type": "\"long\""
        },
        {
         "metadata": "{}",
         "name": "dept_id",
         "type": "\"long\""
        },
        {
         "metadata": "{}",
         "name": "gender",
         "type": "\"string\""
        },
        {
         "metadata": "{}",
         "name": "salary",
         "type": "\"long\""
        },
        {
         "metadata": "{}",
         "name": "dept_id",
         "type": "\"long\""
        },
        {
         "metadata": "{}",
         "name": "dept_name",
         "type": "\"string\""
        }
       ],
       "type": "table"
      }
     },
     "output_type": "display_data"
    }
   ],
   "source": [
    "df1.join(df2,df1.dept_id==df2.dept_id).display()\n",
    "#df1.join(df2,df1.dept_id==df2.dept_id, 'inner').display()"
   ]
  },
  {
   "cell_type": "code",
   "execution_count": 0,
   "metadata": {
    "application/vnd.databricks.v1+cell": {
     "cellMetadata": {
      "byteLimit": 2048000,
      "rowLimit": 10000
     },
     "inputWidgets": {},
     "nuid": "77e1f93e-c4d4-4ce1-9901-293dc64a9625",
     "showTitle": false,
     "tableResultSettingsMap": {},
     "title": ""
    }
   },
   "outputs": [
    {
     "output_type": "display_data",
     "data": {
      "text/html": [
       "<style scoped>\n",
       "  .table-result-container {\n",
       "    max-height: 300px;\n",
       "    overflow: auto;\n",
       "  }\n",
       "  table, th, td {\n",
       "    border: 1px solid black;\n",
       "    border-collapse: collapse;\n",
       "  }\n",
       "  th, td {\n",
       "    padding: 5px;\n",
       "  }\n",
       "  th {\n",
       "    text-align: left;\n",
       "  }\n",
       "</style><div class='table-result-container'><table class='table-result'><thead style='background-color: white'><tr><th>emoloyee_id</th><th>name</th><th>dob</th><th>dept_id</th><th>gender</th><th>salary</th><th>dept_id</th><th>dept_name</th></tr></thead><tbody><tr><td>111</td><td>Raj Kumar</td><td>1999</td><td>100</td><td>M</td><td>15000</td><td>100</td><td>Sales</td></tr><tr><td>121</td><td>Rajesh Kumar</td><td>2000</td><td>100</td><td>M</td><td>20000</td><td>100</td><td>Sales</td></tr><tr><td>131</td><td>Priya Kumari</td><td>1999</td><td>200</td><td>F</td><td>25000</td><td>200</td><td>Marketing</td></tr><tr><td>161</td><td>Anil Kumar</td><td>1998</td><td>700</td><td>M</td><td>40000</td><td>null</td><td>null</td></tr><tr><td>141</td><td>Priyanka Nadendla</td><td>2001</td><td>200</td><td>F</td><td>30000</td><td>200</td><td>Marketing</td></tr><tr><td>151</td><td>Anand Inolu</td><td>2000</td><td>400</td><td>M</td><td>35000</td><td>400</td><td>HR</td></tr></tbody></table></div>"
      ]
     },
     "metadata": {
      "application/vnd.databricks.v1+output": {
       "addedWidgets": {},
       "aggData": [],
       "aggError": "",
       "aggOverflow": false,
       "aggSchema": [],
       "aggSeriesLimitReached": false,
       "aggType": "",
       "arguments": {},
       "columnCustomDisplayInfos": {},
       "data": [
        [
         111,
         "Raj Kumar",
         1999,
         100,
         "M",
         15000,
         100,
         "Sales"
        ],
        [
         121,
         "Rajesh Kumar",
         2000,
         100,
         "M",
         20000,
         100,
         "Sales"
        ],
        [
         131,
         "Priya Kumari",
         1999,
         200,
         "F",
         25000,
         200,
         "Marketing"
        ],
        [
         161,
         "Anil Kumar",
         1998,
         700,
         "M",
         40000,
         null,
         null
        ],
        [
         141,
         "Priyanka Nadendla",
         2001,
         200,
         "F",
         30000,
         200,
         "Marketing"
        ],
        [
         151,
         "Anand Inolu",
         2000,
         400,
         "M",
         35000,
         400,
         "HR"
        ]
       ],
       "datasetInfos": [],
       "dbfsResultPath": null,
       "isJsonSchema": true,
       "metadata": {},
       "overflow": false,
       "plotOptions": {
        "customPlotOptions": {},
        "displayType": "table",
        "pivotAggregation": null,
        "pivotColumns": null,
        "xColumns": null,
        "yColumns": null
       },
       "removedWidgets": [],
       "schema": [
        {
         "metadata": "{}",
         "name": "emoloyee_id",
         "type": "\"long\""
        },
        {
         "metadata": "{}",
         "name": "name",
         "type": "\"string\""
        },
        {
         "metadata": "{}",
         "name": "dob",
         "type": "\"long\""
        },
        {
         "metadata": "{}",
         "name": "dept_id",
         "type": "\"long\""
        },
        {
         "metadata": "{}",
         "name": "gender",
         "type": "\"string\""
        },
        {
         "metadata": "{}",
         "name": "salary",
         "type": "\"long\""
        },
        {
         "metadata": "{}",
         "name": "dept_id",
         "type": "\"long\""
        },
        {
         "metadata": "{}",
         "name": "dept_name",
         "type": "\"string\""
        }
       ],
       "type": "table"
      }
     },
     "output_type": "display_data"
    }
   ],
   "source": [
    "df1.join(df2, df1.dept_id == df2.dept_id, 'left').display()\n",
    "#df1.join(df2, df1.dept_id == df2.dept_id, 'leftouter').display()\n",
    "#df1.join(df2, df1.dept_id == df2.dept_id, 'left_outer').display()"
   ]
  },
  {
   "cell_type": "code",
   "execution_count": 0,
   "metadata": {
    "application/vnd.databricks.v1+cell": {
     "cellMetadata": {
      "byteLimit": 2048000,
      "rowLimit": 10000
     },
     "inputWidgets": {},
     "nuid": "4d32ad88-1a0d-4d61-a38a-6ada9a6d93ac",
     "showTitle": false,
     "tableResultSettingsMap": {},
     "title": ""
    }
   },
   "outputs": [
    {
     "output_type": "display_data",
     "data": {
      "text/html": [
       "<style scoped>\n",
       "  .table-result-container {\n",
       "    max-height: 300px;\n",
       "    overflow: auto;\n",
       "  }\n",
       "  table, th, td {\n",
       "    border: 1px solid black;\n",
       "    border-collapse: collapse;\n",
       "  }\n",
       "  th, td {\n",
       "    padding: 5px;\n",
       "  }\n",
       "  th {\n",
       "    text-align: left;\n",
       "  }\n",
       "</style><div class='table-result-container'><table class='table-result'><thead style='background-color: white'><tr><th>emoloyee_id</th><th>name</th><th>dob</th><th>dept_id</th><th>gender</th><th>salary</th><th>dept_id</th><th>dept_name</th></tr></thead><tbody><tr><td>121</td><td>Rajesh Kumar</td><td>2000</td><td>100</td><td>M</td><td>20000</td><td>100</td><td>Sales</td></tr><tr><td>111</td><td>Raj Kumar</td><td>1999</td><td>100</td><td>M</td><td>15000</td><td>100</td><td>Sales</td></tr><tr><td>141</td><td>Priyanka Nadendla</td><td>2001</td><td>200</td><td>F</td><td>30000</td><td>200</td><td>Marketing</td></tr><tr><td>131</td><td>Priya Kumari</td><td>1999</td><td>200</td><td>F</td><td>25000</td><td>200</td><td>Marketing</td></tr><tr><td>null</td><td>null</td><td>null</td><td>null</td><td>null</td><td>null</td><td>500</td><td>IT</td></tr><tr><td>151</td><td>Anand Inolu</td><td>2000</td><td>400</td><td>M</td><td>35000</td><td>400</td><td>HR</td></tr><tr><td>null</td><td>null</td><td>null</td><td>null</td><td>null</td><td>null</td><td>300</td><td>Finance</td></tr></tbody></table></div>"
      ]
     },
     "metadata": {
      "application/vnd.databricks.v1+output": {
       "addedWidgets": {},
       "aggData": [],
       "aggError": "",
       "aggOverflow": false,
       "aggSchema": [],
       "aggSeriesLimitReached": false,
       "aggType": "",
       "arguments": {},
       "columnCustomDisplayInfos": {},
       "data": [
        [
         121,
         "Rajesh Kumar",
         2000,
         100,
         "M",
         20000,
         100,
         "Sales"
        ],
        [
         111,
         "Raj Kumar",
         1999,
         100,
         "M",
         15000,
         100,
         "Sales"
        ],
        [
         141,
         "Priyanka Nadendla",
         2001,
         200,
         "F",
         30000,
         200,
         "Marketing"
        ],
        [
         131,
         "Priya Kumari",
         1999,
         200,
         "F",
         25000,
         200,
         "Marketing"
        ],
        [
         null,
         null,
         null,
         null,
         null,
         null,
         500,
         "IT"
        ],
        [
         151,
         "Anand Inolu",
         2000,
         400,
         "M",
         35000,
         400,
         "HR"
        ],
        [
         null,
         null,
         null,
         null,
         null,
         null,
         300,
         "Finance"
        ]
       ],
       "datasetInfos": [],
       "dbfsResultPath": null,
       "isJsonSchema": true,
       "metadata": {},
       "overflow": false,
       "plotOptions": {
        "customPlotOptions": {},
        "displayType": "table",
        "pivotAggregation": null,
        "pivotColumns": null,
        "xColumns": null,
        "yColumns": null
       },
       "removedWidgets": [],
       "schema": [
        {
         "metadata": "{}",
         "name": "emoloyee_id",
         "type": "\"long\""
        },
        {
         "metadata": "{}",
         "name": "name",
         "type": "\"string\""
        },
        {
         "metadata": "{}",
         "name": "dob",
         "type": "\"long\""
        },
        {
         "metadata": "{}",
         "name": "dept_id",
         "type": "\"long\""
        },
        {
         "metadata": "{}",
         "name": "gender",
         "type": "\"string\""
        },
        {
         "metadata": "{}",
         "name": "salary",
         "type": "\"long\""
        },
        {
         "metadata": "{}",
         "name": "dept_id",
         "type": "\"long\""
        },
        {
         "metadata": "{}",
         "name": "dept_name",
         "type": "\"string\""
        }
       ],
       "type": "table"
      }
     },
     "output_type": "display_data"
    }
   ],
   "source": [
    "df1.join(df2, df1.dept_id == df2.dept_id, 'right').display()\n",
    "#df1.join(df2, df1.dept_id == df2.dept_id, 'rightouter').display()\n",
    "#df1.join(df2, df1.dept_id == df2.dept_id, 'right_outer').display()"
   ]
  },
  {
   "cell_type": "code",
   "execution_count": 0,
   "metadata": {
    "application/vnd.databricks.v1+cell": {
     "cellMetadata": {
      "byteLimit": 2048000,
      "rowLimit": 10000
     },
     "inputWidgets": {},
     "nuid": "da1ec717-a64d-45b0-ba33-fe50f624cb84",
     "showTitle": false,
     "tableResultSettingsMap": {},
     "title": ""
    }
   },
   "outputs": [
    {
     "output_type": "display_data",
     "data": {
      "text/html": [
       "<style scoped>\n",
       "  .table-result-container {\n",
       "    max-height: 300px;\n",
       "    overflow: auto;\n",
       "  }\n",
       "  table, th, td {\n",
       "    border: 1px solid black;\n",
       "    border-collapse: collapse;\n",
       "  }\n",
       "  th, td {\n",
       "    padding: 5px;\n",
       "  }\n",
       "  th {\n",
       "    text-align: left;\n",
       "  }\n",
       "</style><div class='table-result-container'><table class='table-result'><thead style='background-color: white'><tr><th>emoloyee_id</th><th>name</th><th>dob</th><th>dept_id</th><th>gender</th><th>salary</th></tr></thead><tbody><tr><td>161</td><td>Anil Kumar</td><td>1998</td><td>700</td><td>M</td><td>40000</td></tr></tbody></table></div>"
      ]
     },
     "metadata": {
      "application/vnd.databricks.v1+output": {
       "addedWidgets": {},
       "aggData": [],
       "aggError": "",
       "aggOverflow": false,
       "aggSchema": [],
       "aggSeriesLimitReached": false,
       "aggType": "",
       "arguments": {},
       "columnCustomDisplayInfos": {},
       "data": [
        [
         161,
         "Anil Kumar",
         1998,
         700,
         "M",
         40000
        ]
       ],
       "datasetInfos": [],
       "dbfsResultPath": null,
       "isJsonSchema": true,
       "metadata": {},
       "overflow": false,
       "plotOptions": {
        "customPlotOptions": {},
        "displayType": "table",
        "pivotAggregation": null,
        "pivotColumns": null,
        "xColumns": null,
        "yColumns": null
       },
       "removedWidgets": [],
       "schema": [
        {
         "metadata": "{}",
         "name": "emoloyee_id",
         "type": "\"long\""
        },
        {
         "metadata": "{}",
         "name": "name",
         "type": "\"string\""
        },
        {
         "metadata": "{}",
         "name": "dob",
         "type": "\"long\""
        },
        {
         "metadata": "{}",
         "name": "dept_id",
         "type": "\"long\""
        },
        {
         "metadata": "{}",
         "name": "gender",
         "type": "\"string\""
        },
        {
         "metadata": "{}",
         "name": "salary",
         "type": "\"long\""
        }
       ],
       "type": "table"
      }
     },
     "output_type": "display_data"
    }
   ],
   "source": [
    "df1.join(df2, df1.dept_id == df2.dept_id, 'anti').display()"
   ]
  },
  {
   "cell_type": "code",
   "execution_count": 0,
   "metadata": {
    "application/vnd.databricks.v1+cell": {
     "cellMetadata": {
      "byteLimit": 2048000,
      "rowLimit": 10000
     },
     "inputWidgets": {},
     "nuid": "3c1e68cd-4d98-4136-9aa1-340d54f312d8",
     "showTitle": false,
     "tableResultSettingsMap": {},
     "title": ""
    }
   },
   "outputs": [
    {
     "output_type": "display_data",
     "data": {
      "text/html": [
       "<style scoped>\n",
       "  .table-result-container {\n",
       "    max-height: 300px;\n",
       "    overflow: auto;\n",
       "  }\n",
       "  table, th, td {\n",
       "    border: 1px solid black;\n",
       "    border-collapse: collapse;\n",
       "  }\n",
       "  th, td {\n",
       "    padding: 5px;\n",
       "  }\n",
       "  th {\n",
       "    text-align: left;\n",
       "  }\n",
       "</style><div class='table-result-container'><table class='table-result'><thead style='background-color: white'><tr><th>emoloyee_id</th><th>name</th><th>dob</th><th>dept_id</th><th>gender</th><th>salary</th></tr></thead><tbody><tr><td>111</td><td>Raj Kumar</td><td>1999</td><td>100</td><td>M</td><td>15000</td></tr><tr><td>121</td><td>Rajesh Kumar</td><td>2000</td><td>100</td><td>M</td><td>20000</td></tr><tr><td>131</td><td>Priya Kumari</td><td>1999</td><td>200</td><td>F</td><td>25000</td></tr><tr><td>141</td><td>Priyanka Nadendla</td><td>2001</td><td>200</td><td>F</td><td>30000</td></tr><tr><td>151</td><td>Anand Inolu</td><td>2000</td><td>400</td><td>M</td><td>35000</td></tr></tbody></table></div>"
      ]
     },
     "metadata": {
      "application/vnd.databricks.v1+output": {
       "addedWidgets": {},
       "aggData": [],
       "aggError": "",
       "aggOverflow": false,
       "aggSchema": [],
       "aggSeriesLimitReached": false,
       "aggType": "",
       "arguments": {},
       "columnCustomDisplayInfos": {},
       "data": [
        [
         111,
         "Raj Kumar",
         1999,
         100,
         "M",
         15000
        ],
        [
         121,
         "Rajesh Kumar",
         2000,
         100,
         "M",
         20000
        ],
        [
         131,
         "Priya Kumari",
         1999,
         200,
         "F",
         25000
        ],
        [
         141,
         "Priyanka Nadendla",
         2001,
         200,
         "F",
         30000
        ],
        [
         151,
         "Anand Inolu",
         2000,
         400,
         "M",
         35000
        ]
       ],
       "datasetInfos": [],
       "dbfsResultPath": null,
       "isJsonSchema": true,
       "metadata": {},
       "overflow": false,
       "plotOptions": {
        "customPlotOptions": {},
        "displayType": "table",
        "pivotAggregation": null,
        "pivotColumns": null,
        "xColumns": null,
        "yColumns": null
       },
       "removedWidgets": [],
       "schema": [
        {
         "metadata": "{}",
         "name": "emoloyee_id",
         "type": "\"long\""
        },
        {
         "metadata": "{}",
         "name": "name",
         "type": "\"string\""
        },
        {
         "metadata": "{}",
         "name": "dob",
         "type": "\"long\""
        },
        {
         "metadata": "{}",
         "name": "dept_id",
         "type": "\"long\""
        },
        {
         "metadata": "{}",
         "name": "gender",
         "type": "\"string\""
        },
        {
         "metadata": "{}",
         "name": "salary",
         "type": "\"long\""
        }
       ],
       "type": "table"
      }
     },
     "output_type": "display_data"
    }
   ],
   "source": [
    "df1.join(df2, df1.dept_id ==  df2.dept_id, 'semi').display()"
   ]
  }
 ],
 "metadata": {
  "application/vnd.databricks.v1+notebook": {
   "computePreferences": null,
   "dashboards": [],
   "environmentMetadata": {
    "base_environment": "",
    "environment_version": "2"
   },
   "inputWidgetPreferences": null,
   "language": "python",
   "notebookMetadata": {
    "pythonIndentUnit": 4
   },
   "notebookName": "Joins",
   "widgets": {}
  },
  "language_info": {
   "name": "python"
  }
 },
 "nbformat": 4,
 "nbformat_minor": 0
}